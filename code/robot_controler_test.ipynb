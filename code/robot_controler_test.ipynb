{
 "cells": [
  {
   "cell_type": "code",
   "execution_count": 1,
   "metadata": {},
   "outputs": [],
   "source": [
    "import neural_network as nn\n",
    "import robot_controller as rc\n",
    "import numpy as np"
   ]
  },
  {
   "cell_type": "code",
   "execution_count": 2,
   "metadata": {},
   "outputs": [],
   "source": [
    "batch_n = 7\n",
    "layers = np.array([6, 5, 4])\n",
    "parameters = np.random.randn(batch_n, 59)"
   ]
  },
  {
   "cell_type": "code",
   "execution_count": 3,
   "metadata": {},
   "outputs": [],
   "source": [
    "net = nn.NeuralNetwork(layers, parameters)"
   ]
  },
  {
   "cell_type": "code",
   "execution_count": 4,
   "metadata": {},
   "outputs": [
    {
     "data": {
      "text/plain": [
       "array([[-0.99005328,  0.9936372 , -0.3583943 , -0.23976913],\n",
       "       [-0.28114511,  0.97408603,  0.99943764, -0.94344985],\n",
       "       [ 0.71459407, -0.94303979,  0.80462697, -0.99952523],\n",
       "       [ 0.42601779,  0.85956887, -0.99416093,  0.98578827],\n",
       "       [ 0.98436736, -0.95864562, -0.9707491 , -0.91036828],\n",
       "       [ 0.9985253 ,  0.06473048,  0.74134145, -0.96676506],\n",
       "       [ 0.99912094, -0.99849675,  0.81657011,  0.21147498]])"
      ]
     },
     "execution_count": 4,
     "metadata": {},
     "output_type": "execute_result"
    }
   ],
   "source": [
    "net.forward(np.random.randn(batch_n, 6))"
   ]
  },
  {
   "cell_type": "code",
   "execution_count": 5,
   "metadata": {},
   "outputs": [],
   "source": [
    "controller = rc.RobotController(layers, parameters, 2)"
   ]
  },
  {
   "cell_type": "code",
   "execution_count": 6,
   "metadata": {},
   "outputs": [
    {
     "data": {
      "text/plain": [
       "array([[-0.4832137 ,  0.59919236],\n",
       "       [-0.97650831,  0.91316882],\n",
       "       [ 0.94171193, -0.99720985],\n",
       "       [-0.07307307, -0.98753392],\n",
       "       [ 0.83266534, -0.66398386],\n",
       "       [ 0.9950644 ,  0.07447478],\n",
       "       [ 0.76111576, -0.97618398]])"
      ]
     },
     "execution_count": 6,
     "metadata": {},
     "output_type": "execute_result"
    }
   ],
   "source": [
    "controller.get_motors(np.random.randn(batch_n, 4))"
   ]
  },
  {
   "cell_type": "code",
   "execution_count": 23,
   "metadata": {},
   "outputs": [],
   "source": [
    "sensor_positions = np.array([0.15, 0]) + np.array(np.meshgrid(np.linspace(-0.03, 0.0, 3), np.linspace(-0.04, 0.04, 8))).T.reshape(-1, 2)"
   ]
  },
  {
   "cell_type": "code",
   "execution_count": 24,
   "metadata": {},
   "outputs": [
    {
     "data": {
      "text/plain": [
       "array([[ 0.12      , -0.04      ],\n",
       "       [ 0.12      , -0.02857143],\n",
       "       [ 0.12      , -0.01714286],\n",
       "       [ 0.12      , -0.00571429],\n",
       "       [ 0.12      ,  0.00571429],\n",
       "       [ 0.12      ,  0.01714286],\n",
       "       [ 0.12      ,  0.02857143],\n",
       "       [ 0.12      ,  0.04      ],\n",
       "       [ 0.135     , -0.04      ],\n",
       "       [ 0.135     , -0.02857143],\n",
       "       [ 0.135     , -0.01714286],\n",
       "       [ 0.135     , -0.00571429],\n",
       "       [ 0.135     ,  0.00571429],\n",
       "       [ 0.135     ,  0.01714286],\n",
       "       [ 0.135     ,  0.02857143],\n",
       "       [ 0.135     ,  0.04      ],\n",
       "       [ 0.15      , -0.04      ],\n",
       "       [ 0.15      , -0.02857143],\n",
       "       [ 0.15      , -0.01714286],\n",
       "       [ 0.15      , -0.00571429],\n",
       "       [ 0.15      ,  0.00571429],\n",
       "       [ 0.15      ,  0.01714286],\n",
       "       [ 0.15      ,  0.02857143],\n",
       "       [ 0.15      ,  0.04      ]])"
      ]
     },
     "execution_count": 24,
     "metadata": {},
     "output_type": "execute_result"
    }
   ],
   "source": [
    "sensor_positions"
   ]
  }
 ],
 "metadata": {
  "kernelspec": {
   "display_name": ".venv",
   "language": "python",
   "name": "python3"
  },
  "language_info": {
   "codemirror_mode": {
    "name": "ipython",
    "version": 3
   },
   "file_extension": ".py",
   "mimetype": "text/x-python",
   "name": "python",
   "nbconvert_exporter": "python",
   "pygments_lexer": "ipython3",
   "version": "3.12.7"
  }
 },
 "nbformat": 4,
 "nbformat_minor": 2
}
