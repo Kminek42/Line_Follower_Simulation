{
 "cells": [
  {
   "cell_type": "code",
   "execution_count": 1,
   "metadata": {},
   "outputs": [],
   "source": [
    "import neural_network as nn\n",
    "import robot_controller as rc\n",
    "import numpy as np"
   ]
  },
  {
   "cell_type": "code",
   "execution_count": 2,
   "metadata": {},
   "outputs": [],
   "source": [
    "batch_n = 7\n",
    "layers = np.array([6, 5, 4])\n",
    "parameters = np.random.randn(batch_n, 59)"
   ]
  },
  {
   "cell_type": "code",
   "execution_count": 3,
   "metadata": {},
   "outputs": [],
   "source": [
    "net = nn.NeuralNetwork(layers, parameters)"
   ]
  },
  {
   "cell_type": "code",
   "execution_count": 4,
   "metadata": {},
   "outputs": [
    {
     "data": {
      "text/plain": [
       "array([[-0.94880148,  0.93118595, -0.8791333 , -0.9222868 ],\n",
       "       [ 0.98398397,  0.99137256, -0.31241456, -0.45870542],\n",
       "       [ 0.9998851 , -0.99990669,  0.82929522,  0.99785438],\n",
       "       [ 0.91287561, -0.99082719, -0.9822837 ,  0.99945031],\n",
       "       [-0.99724735, -0.99788447, -0.36521255,  0.98224517],\n",
       "       [-0.18948732, -0.92482283,  0.9978407 , -0.98879204],\n",
       "       [-0.89420469,  0.52027163, -0.4435804 ,  0.01518259]])"
      ]
     },
     "execution_count": 4,
     "metadata": {},
     "output_type": "execute_result"
    }
   ],
   "source": [
    "net.forward(np.random.randn(batch_n, 6))"
   ]
  },
  {
   "cell_type": "code",
   "execution_count": 5,
   "metadata": {},
   "outputs": [],
   "source": [
    "controller = rc.RobotController(layers, parameters, 2)"
   ]
  },
  {
   "cell_type": "code",
   "execution_count": 8,
   "metadata": {},
   "outputs": [
    {
     "data": {
      "text/plain": [
       "array([[ 0.94335626, -0.99964845],\n",
       "       [-0.59566541, -0.9968014 ],\n",
       "       [ 0.48707381,  0.60382202],\n",
       "       [-0.085775  , -0.29274897],\n",
       "       [-0.61797453,  0.96003448],\n",
       "       [ 0.97016255, -0.99900813],\n",
       "       [-0.96859394,  0.61946562]])"
      ]
     },
     "execution_count": 8,
     "metadata": {},
     "output_type": "execute_result"
    }
   ],
   "source": [
    "controller.get_motors(np.random.randn(batch_n, 4))"
   ]
  }
 ],
 "metadata": {
  "kernelspec": {
   "display_name": "lfs_venv",
   "language": "python",
   "name": "python3"
  },
  "language_info": {
   "codemirror_mode": {
    "name": "ipython",
    "version": 3
   },
   "file_extension": ".py",
   "mimetype": "text/x-python",
   "name": "python",
   "nbconvert_exporter": "python",
   "pygments_lexer": "ipython3",
   "version": "3.12.6"
  }
 },
 "nbformat": 4,
 "nbformat_minor": 2
}
