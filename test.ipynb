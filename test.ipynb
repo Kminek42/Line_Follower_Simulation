{
 "cells": [
  {
   "cell_type": "code",
   "execution_count": 2,
   "metadata": {},
   "outputs": [
    {
     "name": "stdout",
     "output_type": "stream",
     "text": [
      "Sorted array1: [1 2 3]\n",
      "Sorted array2: [20 10 30]\n"
     ]
    }
   ],
   "source": [
    "import numpy as np\n",
    "\n",
    "# Example arrays\n",
    "array1 = np.array([3, 1, 2])\n",
    "array2 = np.array([30, 20, 10])\n",
    "\n",
    "# Get indices that would sort the first array\n",
    "sorted_indices = np.argsort(array1)\n",
    "\n",
    "# Use the sorted indices to sort both arrays\n",
    "sorted_array1 = array1[sorted_indices]\n",
    "sorted_array2 = array2[sorted_indices]\n",
    "\n",
    "print(\"Sorted array1:\", sorted_array1)\n",
    "print(\"Sorted array2:\", sorted_array2)"
   ]
  }
 ],
 "metadata": {
  "kernelspec": {
   "display_name": "Python 3",
   "language": "python",
   "name": "python3"
  },
  "language_info": {
   "codemirror_mode": {
    "name": "ipython",
    "version": 3
   },
   "file_extension": ".py",
   "mimetype": "text/x-python",
   "name": "python",
   "nbconvert_exporter": "python",
   "pygments_lexer": "ipython3",
   "version": "3.9.6"
  }
 },
 "nbformat": 4,
 "nbformat_minor": 2
}
