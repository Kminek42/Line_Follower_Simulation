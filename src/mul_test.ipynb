{
 "cells": [
  {
   "cell_type": "code",
   "execution_count": 1,
   "metadata": {},
   "outputs": [],
   "source": [
    "import numpy as np"
   ]
  },
  {
   "cell_type": "code",
   "execution_count": 26,
   "metadata": {},
   "outputs": [],
   "source": [
    "batch_n = 5\n",
    "input_len = 3\n",
    "output_len = 2"
   ]
  },
  {
   "cell_type": "code",
   "execution_count": 70,
   "metadata": {},
   "outputs": [],
   "source": [
    "x = np.random.randn(batch_n, input_len)\n",
    "W = np.random.randn(batch_n, output_len, input_len)\n",
    "b = np.random.randn(batch_n, output_len)"
   ]
  },
  {
   "cell_type": "code",
   "execution_count": 71,
   "metadata": {},
   "outputs": [
    {
     "data": {
      "text/plain": [
       "(array([[-0.3996095 ,  0.84136726,  0.39653885],\n",
       "        [-1.05589789,  0.03608312,  0.44058745],\n",
       "        [ 0.21133436,  0.48894449, -0.05501375],\n",
       "        [-0.98412926,  0.59701478,  0.41088003],\n",
       "        [ 0.50863574, -0.02649438, -0.01384508]]),\n",
       " array([[[ 0.38158432, -0.25309675, -0.0478214 ],\n",
       "         [ 0.01177225, -1.32855138,  1.81299305]],\n",
       " \n",
       "        [[ 2.07452898,  0.6602195 ,  0.49690708],\n",
       "         [-1.38427762,  0.54021537, -0.73518451]],\n",
       " \n",
       "        [[ 0.00467902,  0.17662725,  0.41614179],\n",
       "         [-0.71114308,  0.38393304,  1.21085359]],\n",
       " \n",
       "        [[ 0.65005519,  0.74822558, -0.35179889],\n",
       "         [-1.78507785,  0.71289528,  0.24410147]],\n",
       " \n",
       "        [[-1.92797717,  1.07013627, -0.12249036],\n",
       "         [ 0.95816069,  0.06591349, -0.60346898]]]))"
      ]
     },
     "execution_count": 71,
     "metadata": {},
     "output_type": "execute_result"
    }
   ],
   "source": [
    "x, W"
   ]
  },
  {
   "cell_type": "code",
   "execution_count": 74,
   "metadata": {},
   "outputs": [
    {
     "data": {
      "text/plain": [
       "array([[ 0.71283249, -2.20993865],\n",
       "       [-2.53759317, -0.01323719],\n",
       "       [ 0.11734463,  1.90196011],\n",
       "       [-1.95896599,  2.25495644],\n",
       "       [-2.28315892,  2.3214353 ]])"
      ]
     },
     "execution_count": 74,
     "metadata": {},
     "output_type": "execute_result"
    }
   ],
   "source": [
    "np.einsum('bnm, bm -> bn', W, x) + b"
   ]
  }
 ],
 "metadata": {
  "kernelspec": {
   "display_name": "lfs_venv",
   "language": "python",
   "name": "python3"
  },
  "language_info": {
   "codemirror_mode": {
    "name": "ipython",
    "version": 3
   },
   "file_extension": ".py",
   "mimetype": "text/x-python",
   "name": "python",
   "nbconvert_exporter": "python",
   "pygments_lexer": "ipython3",
   "version": "3.12.6"
  }
 },
 "nbformat": 4,
 "nbformat_minor": 2
}
